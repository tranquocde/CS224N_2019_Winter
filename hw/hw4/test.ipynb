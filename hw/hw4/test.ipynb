{
 "cells": [
  {
   "cell_type": "code",
   "execution_count": 1,
   "metadata": {},
   "outputs": [
    {
     "data": {
      "text/plain": [
       "['a', 'a', 'a', 1, 2, 3]"
      ]
     },
     "execution_count": 1,
     "metadata": {},
     "output_type": "execute_result"
    }
   ],
   "source": [
    "x = ['a']*3\n",
    "y = [1,2,3]\n",
    "x+y"
   ]
  },
  {
   "cell_type": "code",
   "execution_count": 14,
   "metadata": {},
   "outputs": [
    {
     "data": {
      "text/plain": [
       "torch.Size([2, 1, 2])"
      ]
     },
     "execution_count": 14,
     "metadata": {},
     "output_type": "execute_result"
    }
   ],
   "source": [
    "import torch \n",
    "x = torch.tensor([[1,2],[2,3]])\n",
    "x.unsqueeze(1).squeeze(0).shape\n",
    "# x.shape\n"
   ]
  },
  {
   "cell_type": "code",
   "execution_count": 16,
   "metadata": {},
   "outputs": [
    {
     "data": {
      "text/plain": [
       "0.3872983346207417"
      ]
     },
     "execution_count": 16,
     "metadata": {},
     "output_type": "execute_result"
    }
   ],
   "source": [
    "\n",
    "from nltk.translate.bleu_score import sentence_bleu\n",
    "ref_1 = \"love can always find a way\".split();\n",
    "ref_2 = \"love makes anythin possible\".split()\n",
    "trans_1 = \"the love can always do\".split()\n",
    "trans_2 = \"love can make anything possible\".split()\n",
    "sentence_bleu([ref_1,ref_2],trans_2,weights=(0.5,0.5))\n"
   ]
  },
  {
   "cell_type": "code",
   "execution_count": 17,
   "metadata": {},
   "outputs": [
    {
     "name": "stdout",
     "output_type": "stream",
     "text": [
      "uniformly initialize parameters [-0.100000, +0.100000]\n",
      "use device: cpu\n",
      "begin Maximum Likelihood training\n",
      "epoch 1, iter 10, avg. loss 194.89, avg. ppl 23815.53 cum. examples 320, speed 898.13 words/sec, time elapsed 6.89 sec\n",
      "epoch 1, iter 20, avg. loss 150.80, avg. ppl 2674.09 cum. examples 640, speed 888.22 words/sec, time elapsed 13.77 sec\n",
      "^C\n",
      "Traceback (most recent call last):\n",
      "  File \"/Users/quocdetran/Documents/HUST/CS224N/hw/hw4/run.py\", line 343, in <module>\n",
      "    main()\n",
      "  File \"/Users/quocdetran/Documents/HUST/CS224N/hw/hw4/run.py\", line 335, in main\n",
      "    train(args)\n",
      "  File \"/Users/quocdetran/Documents/HUST/CS224N/hw/hw4/run.py\", line 165, in train\n",
      "    example_losses = -model(src_sents, tgt_sents) # (batch_size,)\n",
      "  File \"/Users/quocdetran/miniforge3/lib/python3.10/site-packages/torch/nn/modules/module.py\", line 1501, in _call_impl\n",
      "    return forward_call(*args, **kwargs)\n",
      "  File \"/Users/quocdetran/Documents/HUST/CS224N/hw/hw4/nmt_model.py\", line 115, in forward\n",
      "    P = F.log_softmax(self.target_vocab_projection(combined_outputs), dim=-1)\n",
      "  File \"/Users/quocdetran/miniforge3/lib/python3.10/site-packages/torch/nn/functional.py\", line 1932, in log_softmax\n",
      "    ret = input.log_softmax(dim)\n",
      "KeyboardInterrupt\n"
     ]
    }
   ],
   "source": [
    "! sh run.sh train_local"
   ]
  },
  {
   "cell_type": "code",
   "execution_count": null,
   "metadata": {},
   "outputs": [],
   "source": []
  }
 ],
 "metadata": {
  "kernelspec": {
   "display_name": "base",
   "language": "python",
   "name": "python3"
  },
  "language_info": {
   "codemirror_mode": {
    "name": "ipython",
    "version": 3
   },
   "file_extension": ".py",
   "mimetype": "text/x-python",
   "name": "python",
   "nbconvert_exporter": "python",
   "pygments_lexer": "ipython3",
   "version": "3.10.8"
  },
  "orig_nbformat": 4
 },
 "nbformat": 4,
 "nbformat_minor": 2
}
